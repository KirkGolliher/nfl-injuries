{
 "cells": [
  {
   "cell_type": "code",
   "execution_count": null,
   "id": "cad6756a",
   "metadata": {},
   "outputs": [],
   "source": [
    "import pandas as pd\n",
    "import matplotlib.pyplot as plt\n",
    "from datetime import datetime"
   ]
  },
  {
   "cell_type": "markdown",
   "id": "b5e6976f",
   "metadata": {},
   "source": [
    "**Plan of action:**<br>\n",
    "- **DONE**Figure out which columns are needed in the stats data: pos,player,team,pass_yds,pass_td,pass_int,rec_yds,rec_tds,rush_yds,rush_td,surface,game_date \n",
    "- **DONE**Create a list of the injured players and make new df to merge that with the stats.\n",
    "- **DONE**Lump all three seasons to get averages or break it up for each season (Went with lump)\n",
    "- Merge the offense/defense/kicking df's to line up the player's \n",
    "- **DONE**Make list of injured players in each year (cutoff at end of 2020 season). WENT WITH BEFORE/AFTER STATS\n",
    "- From that list, compare the average of all the player's stats to the injured ones.\n",
    "- Maybe only focus on the offense stats?\n",
    "- Find the percent of players by position who get injured.\n",
    "- **DONE**CONCAT ALL OF THE INJURY DF'S TOGETHER (ADD A COLUMN TO SPECIFY THE INJURY FOR THE FILTERING)\n",
    "- Make a percentage of after yards in Tableau for bar chart.\n",
    "- Make concussions a separate thing.\n",
    "- See if there's correlation between injuries and player positions. Make graph that shows the percent breakdown by pos.\n",
    "- Make slideshow for showing data/process of what I did then show dashboard."
   ]
  },
  {
   "cell_type": "markdown",
   "id": "93a3fedb",
   "metadata": {},
   "source": [
    "### Pull in the data (injury reports/player stats)"
   ]
  },
  {
   "cell_type": "code",
   "execution_count": null,
   "id": "a8b87971",
   "metadata": {},
   "outputs": [],
   "source": [
    "acl_report = pd.read_csv('../data/acl_report.csv', header = 1)"
   ]
  },
  {
   "cell_type": "code",
   "execution_count": null,
   "id": "98a7a93c",
   "metadata": {},
   "outputs": [],
   "source": [
    "concussion_report = pd.read_csv('../data/concussion_report.csv', header = 1)"
   ]
  },
  {
   "cell_type": "code",
   "execution_count": null,
   "id": "535a73e5",
   "metadata": {},
   "outputs": [],
   "source": [
    "shoulder_report = pd.read_csv('../data/shoulder_report.csv', header = 1)"
   ]
  },
  {
   "cell_type": "code",
   "execution_count": null,
   "id": "09ec0f6d",
   "metadata": {},
   "outputs": [],
   "source": [
    "ankle_report = pd.read_csv('../data/ankle_report.csv', header = 1)"
   ]
  },
  {
   "cell_type": "code",
   "execution_count": null,
   "id": "559618c1",
   "metadata": {},
   "outputs": [],
   "source": [
    "offense_stats = pd.read_csv('../data/nfl_offense.csv')"
   ]
  },
  {
   "cell_type": "code",
   "execution_count": null,
   "id": "6e820318",
   "metadata": {},
   "outputs": [],
   "source": [
    "defense_stats = pd.read_csv('../data/nfl_defense.csv')"
   ]
  },
  {
   "cell_type": "code",
   "execution_count": null,
   "id": "621a6c40",
   "metadata": {},
   "outputs": [],
   "source": [
    "kicking_stats = pd.read_csv('../data/nfl_kicking.csv')"
   ]
  },
  {
   "cell_type": "markdown",
   "id": "10b3aa9f",
   "metadata": {},
   "source": [
    "### Data Cleaning"
   ]
  },
  {
   "cell_type": "code",
   "execution_count": null,
   "id": "2532c8d6",
   "metadata": {},
   "outputs": [],
   "source": [
    "acl_report = acl_report[['Date', 'Team', 'Relinquished', 'Notes']]\n",
    "concussion_report = concussion_report[['Date', 'Team', 'Relinquished', 'Notes']]\n",
    "shoulder_report = shoulder_report[['Date', 'Team', 'Relinquished', 'Notes']]\n",
    "ankle_report = ankle_report[['Date', 'Team', 'Relinquished', 'Notes']]"
   ]
  },
  {
   "cell_type": "code",
   "execution_count": null,
   "id": "ebe7c223",
   "metadata": {},
   "outputs": [],
   "source": [
    "acl_report = acl_report.rename(columns = {'Relinquished':'Player'})\n",
    "concussion_report = concussion_report.rename(columns = {'Relinquished':'Player'})\n",
    "shoulder_report = shoulder_report.rename(columns = {'Relinquished':'Player'})\n",
    "ankle_report = ankle_report.rename(columns = {'Relinquished':'Player'})"
   ]
  },
  {
   "cell_type": "code",
   "execution_count": null,
   "id": "dcccd408",
   "metadata": {},
   "outputs": [],
   "source": [
    "acl_report['Player'] = acl_report['Player'].str[2:]\n",
    "concussion_report['Player'] = concussion_report['Player'].str[2:]\n",
    "shoulder_report['Player'] = shoulder_report['Player'].str[2:]\n",
    "ankle_report['Player'] = ankle_report['Player'].str[2:]"
   ]
  },
  {
   "cell_type": "code",
   "execution_count": null,
   "id": "06043139",
   "metadata": {},
   "outputs": [],
   "source": [
    "acl_report"
   ]
  },
  {
   "cell_type": "code",
   "execution_count": null,
   "id": "5a23cc93",
   "metadata": {},
   "outputs": [],
   "source": [
    "offense_stats"
   ]
  },
  {
   "cell_type": "code",
   "execution_count": null,
   "id": "fb805bcc",
   "metadata": {},
   "outputs": [],
   "source": [
    "#offense_stats = offense_stats[['player','team','pass_yds','pass_td','pass_int','rec_yds','rec_td','rush_yds','rush_td','Surface','game_date']]"
   ]
  },
  {
   "cell_type": "code",
   "execution_count": null,
   "id": "cb065e7a",
   "metadata": {},
   "outputs": [],
   "source": [
    "offense_stats"
   ]
  },
  {
   "cell_type": "code",
   "execution_count": null,
   "id": "156b6d9e",
   "metadata": {},
   "outputs": [],
   "source": [
    "offense_grouped = offense_stats.groupby(['player','pos'])[['pass_yds','pass_td','pass_int','rec_yds','rec_td','rush_yds','rush_td']].sum()"
   ]
  },
  {
   "cell_type": "code",
   "execution_count": null,
   "id": "49d2e9f0",
   "metadata": {},
   "outputs": [],
   "source": [
    "offense_grouped = offense_grouped.reset_index()"
   ]
  },
  {
   "cell_type": "code",
   "execution_count": null,
   "id": "866238c9",
   "metadata": {},
   "outputs": [],
   "source": [
    "offense_grouped"
   ]
  },
  {
   "cell_type": "code",
   "execution_count": null,
   "id": "1b91d51e",
   "metadata": {},
   "outputs": [],
   "source": [
    "offense_grouped.loc[offense_grouped['pass_yds'] > 3000]['pass_yds'].mean()/48"
   ]
  },
  {
   "cell_type": "code",
   "execution_count": null,
   "id": "39fb6b89",
   "metadata": {},
   "outputs": [],
   "source": [
    "offense_grouped.loc[offense_grouped['rec_yds'] >= 300]['rec_yds'].mean()/3"
   ]
  },
  {
   "cell_type": "code",
   "execution_count": null,
   "id": "9db68119",
   "metadata": {},
   "outputs": [],
   "source": [
    "acl_report.Date.unique()"
   ]
  },
  {
   "cell_type": "code",
   "execution_count": null,
   "id": "845c40c0",
   "metadata": {},
   "outputs": [],
   "source": [
    "acl_report = acl_report[acl_report['Date'] != 'Date']\n",
    "shoulder_report = shoulder_report[shoulder_report['Date'] != 'Date']\n",
    "concussion_report = concussion_report[concussion_report['Date'] != 'Date']\n",
    "ankle_report = ankle_report[ankle_report['Date'] != 'Date']"
   ]
  },
  {
   "cell_type": "code",
   "execution_count": null,
   "id": "5bf4092d",
   "metadata": {},
   "outputs": [],
   "source": [
    "acl_report['Date'] = pd.to_datetime(acl_report['Date'], format = '%Y-%m-%d')\n",
    "shoulder_report['Date'] = pd.to_datetime(shoulder_report['Date'], format = '%Y-%m-%d')\n",
    "concussion_report['Date'] = pd.to_datetime(concussion_report['Date'], format = '%Y-%m-%d')\n",
    "ankle_report['Date'] = pd.to_datetime(ankle_report['Date'], format = '%Y-%m-%d')"
   ]
  },
  {
   "cell_type": "code",
   "execution_count": null,
   "id": "47bda9c4",
   "metadata": {},
   "outputs": [],
   "source": [
    "acl_report"
   ]
  },
  {
   "cell_type": "code",
   "execution_count": null,
   "id": "56baba27",
   "metadata": {},
   "outputs": [],
   "source": [
    "acl_report.Player.value_counts()"
   ]
  },
  {
   "cell_type": "code",
   "execution_count": null,
   "id": "65edaf28",
   "metadata": {},
   "outputs": [],
   "source": [
    "acl_players = acl_report.drop_duplicates(subset = 'Player', keep = 'first')\n",
    "shoulder_players = shoulder_report.drop_duplicates(subset = 'Player', keep = 'first')\n",
    "concussion_players = concussion_report.drop_duplicates(subset = 'Player', keep = 'first')\n",
    "ankle_players = ankle_report.drop_duplicates(subset = 'Player', keep = 'first')"
   ]
  },
  {
   "cell_type": "code",
   "execution_count": null,
   "id": "a6295ca6",
   "metadata": {},
   "outputs": [],
   "source": [
    "acl_offense = pd.merge(acl_players, offense_grouped, how = 'inner', left_on = 'Player', right_on = 'player')\n",
    "shoulder_offense = pd.merge(shoulder_players, offense_grouped, how = 'inner', left_on = 'Player', right_on = 'player')\n",
    "concussion_offense = pd.merge(concussion_players, offense_grouped, how = 'inner', left_on = 'Player', right_on = 'player')\n",
    "ankle_offense = pd.merge(ankle_players, offense_grouped, how = 'inner', left_on = 'Player', right_on = 'player')"
   ]
  },
  {
   "cell_type": "code",
   "execution_count": null,
   "id": "a4692030",
   "metadata": {},
   "outputs": [],
   "source": [
    "acl_offense.sort_values(by = 'pass_yds', ascending = False)"
   ]
  },
  {
   "cell_type": "code",
   "execution_count": null,
   "id": "c57987a3",
   "metadata": {},
   "outputs": [],
   "source": [
    "acl_offense.pos.value_counts()"
   ]
  },
  {
   "cell_type": "code",
   "execution_count": null,
   "id": "621abc80",
   "metadata": {},
   "outputs": [],
   "source": [
    "shoulder_offense.pos.value_counts()"
   ]
  },
  {
   "cell_type": "code",
   "execution_count": null,
   "id": "345f9690",
   "metadata": {},
   "outputs": [],
   "source": [
    "concussion_offense.pos.value_counts()"
   ]
  },
  {
   "cell_type": "code",
   "execution_count": null,
   "id": "774eb768",
   "metadata": {},
   "outputs": [],
   "source": [
    "ankle_offense.pos.value_counts()"
   ]
  },
  {
   "cell_type": "code",
   "execution_count": null,
   "id": "b17f046a",
   "metadata": {},
   "outputs": [],
   "source": [
    "ankle_offense"
   ]
  },
  {
   "cell_type": "code",
   "execution_count": null,
   "id": "e5baf12b",
   "metadata": {},
   "outputs": [],
   "source": [
    "ankle_offense.info()"
   ]
  },
  {
   "cell_type": "code",
   "execution_count": null,
   "id": "9100c24f",
   "metadata": {},
   "outputs": [],
   "source": [
    "offense_stats['game_date'] = pd.to_datetime(offense_stats['game_date'], format = '%Y-%m-%d')"
   ]
  },
  {
   "cell_type": "code",
   "execution_count": null,
   "id": "9c2916cb",
   "metadata": {},
   "outputs": [],
   "source": [
    "offense_stats.info()"
   ]
  },
  {
   "cell_type": "code",
   "execution_count": null,
   "id": "36e36679",
   "metadata": {},
   "outputs": [],
   "source": [
    "for ind,row in offense_stats.iterrows():\n",
    "    if row.game_date > pd.to_datetime('2022-9-1', format = '%Y-%m-%d'):\n",
    "        offense_stats.loc[ind, 'season'] = '2022 Season'\n",
    "    elif row.game_date > pd.to_datetime('2021-9-1', format = '%Y-%m-%d'):\n",
    "        offense_stats.loc[ind, 'season'] = '2021 Season'\n",
    "    elif row.game_date > pd.to_datetime('2020-9-1', format = '%Y-%m-%d'):\n",
    "        offense_stats.loc[ind, 'season'] = '2020 Season'\n",
    "    elif row.game_date > pd.to_datetime('2019-9-1', format = '%Y-%m-%d'):\n",
    "        offense_stats.loc[ind, 'season'] = '2019 Season'\n",
    "    else: print('')"
   ]
  },
  {
   "cell_type": "code",
   "execution_count": null,
   "id": "aa16770c",
   "metadata": {},
   "outputs": [],
   "source": [
    "offense_stats"
   ]
  },
  {
   "cell_type": "code",
   "execution_count": null,
   "id": "e00fe856",
   "metadata": {},
   "outputs": [],
   "source": [
    "offense_season_grouped = offense_stats.groupby(['player','pos', 'season'])[['pass_yds','pass_td','pass_int','rec_yds','rec_td','rush_yds','rush_td']].sum()"
   ]
  },
  {
   "cell_type": "code",
   "execution_count": null,
   "id": "989c47a8",
   "metadata": {},
   "outputs": [],
   "source": [
    "offense_season_grouped = offense_season_grouped.reset_index()"
   ]
  },
  {
   "cell_type": "code",
   "execution_count": null,
   "id": "7271dad4",
   "metadata": {},
   "outputs": [],
   "source": [
    "offense_season_grouped"
   ]
  },
  {
   "cell_type": "code",
   "execution_count": null,
   "id": "3d46520c",
   "metadata": {},
   "outputs": [],
   "source": [
    "acl_offense_season = pd.merge(acl_players, offense_season_grouped, how = 'inner', left_on = 'Player', right_on = 'player')\n",
    "shoulder_offense_season = pd.merge(shoulder_players, offense_season_grouped, how = 'inner', left_on = 'Player', right_on = 'player')\n",
    "concussion_offense_season = pd.merge(concussion_players, offense_season_grouped, how = 'inner', left_on = 'Player', right_on = 'player')\n",
    "ankle_offense_season = pd.merge(ankle_players, offense_season_grouped, how = 'inner', left_on = 'Player', right_on = 'player')"
   ]
  },
  {
   "cell_type": "code",
   "execution_count": null,
   "id": "f09ed8eb",
   "metadata": {},
   "outputs": [],
   "source": [
    "concussion_offense_season"
   ]
  },
  {
   "cell_type": "code",
   "execution_count": null,
   "id": "54a66ad0",
   "metadata": {},
   "outputs": [],
   "source": [
    "#offense_season_grouped.to_csv('../data/offense_season_grouped.csv')\n",
    "#acl_offense_season.to_csv('../data/acl_offense_season.csv')"
   ]
  },
  {
   "cell_type": "code",
   "execution_count": null,
   "id": "59c8b030",
   "metadata": {
    "scrolled": false
   },
   "outputs": [],
   "source": [
    "acl_offense_season.loc[acl_offense_season['pos'] == 'TE']"
   ]
  },
  {
   "cell_type": "markdown",
   "id": "6355e4e6",
   "metadata": {},
   "source": [
    "for ind,row in acl_offense_season.iterrows():\n",
    "    if row.season == '2022 Season':\n",
    "        offense_stats.loc[ind, 'season'] = pd.to_datetime('2022-9-1', format = '%Y-%m-%d')\n",
    "    elif row.game_date > pd.to_datetime('2021-9-1', format = '%Y-%m-%d'):\n",
    "        offense_stats.loc[ind, 'season'] = '2021 Season'\n",
    "    elif row.game_date > pd.to_datetime('2020-9-1', format = '%Y-%m-%d'):\n",
    "        offense_stats.loc[ind, 'season'] = '2020 Season'\n",
    "    elif row.game_date > pd.to_datetime('2019-9-1', format = '%Y-%m-%d'):\n",
    "        offense_stats.loc[ind, 'season'] = '2019 Season'\n",
    "    else: print('')"
   ]
  },
  {
   "cell_type": "code",
   "execution_count": null,
   "id": "1c7a9b01",
   "metadata": {},
   "outputs": [],
   "source": [
    "for ind,row in acl_offense_season.iterrows():\n",
    "    if row.season == '2022 Season':\n",
    "        acl_offense_season.loc[ind, 'season_start'] = pd.to_datetime('2022-9-1', format = '%Y-%m-%d')\n",
    "    if row.season == '2021 Season':\n",
    "        acl_offense_season.loc[ind, 'season_start'] = pd.to_datetime('2021-9-1', format = '%Y-%m-%d')\n",
    "    if row.season == '2020 Season':\n",
    "        acl_offense_season.loc[ind, 'season_start'] = pd.to_datetime('2020-9-1', format = '%Y-%m-%d')\n",
    "    if row.season == '2019 Season':\n",
    "        acl_offense_season.loc[ind, 'season_start'] = pd.to_datetime('2019-9-1', format = '%Y-%m-%d')"
   ]
  },
  {
   "cell_type": "code",
   "execution_count": null,
   "id": "f4d7e8e9",
   "metadata": {},
   "outputs": [],
   "source": [
    "for ind,row in acl_offense_season.iterrows():\n",
    "    if row.season_start > row.Date:\n",
    "        acl_offense_season.loc[ind, 'after_injury'] = 'after'\n",
    "    elif row.season_start < row.Date:\n",
    "        acl_offense_season.loc[ind, 'before_injury'] = 'before'\n",
    "    elif row.season_start < row.Date:\n",
    "        acl_offense_season.loc[ind, 'after_injury'] = ''\n",
    "    elif row.season_start > row.Date:\n",
    "        acl_offense_season.loc[ind, 'before_injury'] = ''"
   ]
  },
  {
   "cell_type": "code",
   "execution_count": null,
   "id": "84463021",
   "metadata": {},
   "outputs": [],
   "source": [
    "acl_offense_season['total_yds'] = acl_offense_season['pass_yds'] + acl_offense_season['rec_yds'] + acl_offense_season['rush_yds']"
   ]
  },
  {
   "cell_type": "code",
   "execution_count": null,
   "id": "73ab2df2",
   "metadata": {},
   "outputs": [],
   "source": [
    "acl_offense_season = acl_offense_season.fillna('')"
   ]
  },
  {
   "cell_type": "code",
   "execution_count": null,
   "id": "a99bc5dc",
   "metadata": {},
   "outputs": [],
   "source": [
    "acl_offense_season.loc[acl_offense_season['Player'] == 'Chris Godwin']"
   ]
  },
  {
   "cell_type": "code",
   "execution_count": null,
   "id": "1aa006bf",
   "metadata": {},
   "outputs": [],
   "source": [
    "acl_offense_before = acl_offense_season.loc[acl_offense_season['before_injury'] == 'before']\n",
    "acl_offense_after = acl_offense_season.loc[acl_offense_season['after_injury'] == 'after']"
   ]
  },
  {
   "cell_type": "code",
   "execution_count": null,
   "id": "f5d2acad",
   "metadata": {},
   "outputs": [],
   "source": [
    "#acl_offense_before.to_csv('../data/acl_offense_before.csv')\n",
    "#acl_offense_after.to_csv('../data/acl_offense_after.csv')"
   ]
  },
  {
   "cell_type": "code",
   "execution_count": null,
   "id": "06b4a0c0",
   "metadata": {},
   "outputs": [],
   "source": [
    "#acl_offense_season.to_csv('../data/acl_offense_season.csv')"
   ]
  },
  {
   "cell_type": "code",
   "execution_count": null,
   "id": "80381b05",
   "metadata": {},
   "outputs": [],
   "source": [
    "acl_offense_season"
   ]
  },
  {
   "cell_type": "code",
   "execution_count": null,
   "id": "beabde1a",
   "metadata": {},
   "outputs": [],
   "source": [
    "for ind,row in acl_offense_season.iterrows():\n",
    "    if row.season_start > row.Date:\n",
    "        acl_offense_season.loc[ind, 'before_after_injury'] = 'after'\n",
    "    elif row.season_start < row.Date:\n",
    "        acl_offense_season.loc[ind, 'before_after_injury'] = 'before'\n",
    "    else: acl_offense_season.loc[ind, 'before_after_injury'] = ''"
   ]
  },
  {
   "cell_type": "code",
   "execution_count": null,
   "id": "4905a0f9",
   "metadata": {},
   "outputs": [],
   "source": [
    "acl_offense_season"
   ]
  },
  {
   "cell_type": "code",
   "execution_count": null,
   "id": "f873f15e",
   "metadata": {},
   "outputs": [],
   "source": [
    "acl_offense_after"
   ]
  },
  {
   "cell_type": "code",
   "execution_count": null,
   "id": "084573f5",
   "metadata": {},
   "outputs": [],
   "source": [
    "acl_offense_season['injury'] = 'acl'"
   ]
  },
  {
   "cell_type": "code",
   "execution_count": null,
   "id": "b7fe2fb5",
   "metadata": {},
   "outputs": [],
   "source": [
    "shoulder_offense_season['injury'] = 'shoulder'\n",
    "concussion_offense_season['injury'] = 'concussion'\n",
    "ankle_offense_season['injury'] = 'ankle'"
   ]
  },
  {
   "cell_type": "code",
   "execution_count": null,
   "id": "28a7918c",
   "metadata": {},
   "outputs": [],
   "source": [
    "acl_offense_season = acl_offense_season.drop(columns = ['Player','Notes','after_injury','before_injury','before_after_injury'])"
   ]
  },
  {
   "cell_type": "code",
   "execution_count": null,
   "id": "fad2175b",
   "metadata": {},
   "outputs": [],
   "source": [
    "injury_merge = pd.concat([shoulder_offense_season, ankle_offense_season])"
   ]
  },
  {
   "cell_type": "code",
   "execution_count": null,
   "id": "5f66d849",
   "metadata": {},
   "outputs": [],
   "source": [
    "injury_merge = injury_merge.drop(columns = ['Player', 'Notes'])"
   ]
  },
  {
   "cell_type": "code",
   "execution_count": null,
   "id": "d89b15e6",
   "metadata": {},
   "outputs": [],
   "source": [
    "injury_merge.info()"
   ]
  },
  {
   "cell_type": "code",
   "execution_count": null,
   "id": "d09e5b0e",
   "metadata": {},
   "outputs": [],
   "source": [
    "acl_offense_season.info()"
   ]
  },
  {
   "cell_type": "code",
   "execution_count": null,
   "id": "39c6f80d",
   "metadata": {},
   "outputs": [],
   "source": [
    "acl_off = acl_offense_season.drop(columns = ['season_start', 'total_yds'])"
   ]
  },
  {
   "cell_type": "code",
   "execution_count": null,
   "id": "df138e9d",
   "metadata": {},
   "outputs": [],
   "source": [
    "injury_offense = pd.concat([acl_off, injury_merge])"
   ]
  },
  {
   "cell_type": "code",
   "execution_count": null,
   "id": "decf51b4",
   "metadata": {},
   "outputs": [],
   "source": [
    "injury_offense"
   ]
  },
  {
   "cell_type": "code",
   "execution_count": null,
   "id": "de1895f9",
   "metadata": {},
   "outputs": [],
   "source": [
    "injury_offense['total_yds'] = injury_offense['pass_yds'] + injury_offense['rec_yds'] + injury_offense['rush_yds']"
   ]
  },
  {
   "cell_type": "code",
   "execution_count": null,
   "id": "87382e89",
   "metadata": {},
   "outputs": [],
   "source": [
    "injury_offense"
   ]
  },
  {
   "cell_type": "code",
   "execution_count": null,
   "id": "6ceceeff",
   "metadata": {},
   "outputs": [],
   "source": [
    "for ind,row in injury_offense.iterrows():\n",
    "    if row.season == '2022 Season':\n",
    "        injury_offense.loc[ind, 'season_start'] = pd.to_datetime('2022-9-1', format = '%Y-%m-%d')\n",
    "    if row.season == '2021 Season':\n",
    "        injury_offense.loc[ind, 'season_start'] = pd.to_datetime('2021-9-1', format = '%Y-%m-%d')\n",
    "    if row.season == '2020 Season':\n",
    "        injury_offense.loc[ind, 'season_start'] = pd.to_datetime('2020-9-1', format = '%Y-%m-%d')\n",
    "    if row.season == '2019 Season':\n",
    "        injury_offense.loc[ind, 'season_start'] = pd.to_datetime('2019-9-1', format = '%Y-%m-%d')"
   ]
  },
  {
   "cell_type": "code",
   "execution_count": null,
   "id": "b594f55d",
   "metadata": {},
   "outputs": [],
   "source": [
    "injury_offense"
   ]
  },
  {
   "cell_type": "code",
   "execution_count": null,
   "id": "312b1c94",
   "metadata": {},
   "outputs": [],
   "source": [
    "for ind,row in injury_offense.iterrows():\n",
    "    if row.season_start > row.Date:\n",
    "        injury_offense.loc[ind, 'before_after_injury'] = 'after'\n",
    "    elif row.season_start < row.Date:\n",
    "        injury_offense.loc[ind, 'before_after_injury'] = 'before'\n",
    "    else: injury_offense.loc[ind, 'before_after_injury'] = ''"
   ]
  },
  {
   "cell_type": "code",
   "execution_count": null,
   "id": "89892377",
   "metadata": {},
   "outputs": [],
   "source": [
    "injury_offense = injury_offense.rename(columns = {'Date':'injury_date'})"
   ]
  },
  {
   "cell_type": "code",
   "execution_count": null,
   "id": "b7ff4c23",
   "metadata": {},
   "outputs": [],
   "source": [
    "injury_offense.info()"
   ]
  },
  {
   "cell_type": "code",
   "execution_count": null,
   "id": "6badbcc5",
   "metadata": {},
   "outputs": [],
   "source": [
    "injury_offense = injury_offense.iloc[:, [0,1,2,3,4,14,5,6,7,8,9,10,11,13,15,12]]"
   ]
  },
  {
   "cell_type": "code",
   "execution_count": null,
   "id": "0bc18d9f",
   "metadata": {},
   "outputs": [],
   "source": [
    "#injury_offense.to_csv('../data/injury_offense.csv')"
   ]
  },
  {
   "cell_type": "code",
   "execution_count": null,
   "id": "7ee3cd48",
   "metadata": {},
   "outputs": [],
   "source": [
    "injury_offense.loc[injury_offense['player'] == 'Jimmy Garoppolo']"
   ]
  },
  {
   "cell_type": "code",
   "execution_count": null,
   "id": "3a81f4dc",
   "metadata": {},
   "outputs": [],
   "source": [
    "concussion_offense_season.sort_values(by = 'player')"
   ]
  },
  {
   "cell_type": "code",
   "execution_count": null,
   "id": "c99aec83",
   "metadata": {},
   "outputs": [],
   "source": [
    "concussion_stats = concussion_offense_season.groupby(['Date', 'player', 'pos', 'injury'])[['pass_yds','rec_yds','rush_yds']].sum().reset_index()"
   ]
  },
  {
   "cell_type": "code",
   "execution_count": null,
   "id": "6dddf08b",
   "metadata": {},
   "outputs": [],
   "source": [
    "concussion_stats.player.value_counts()"
   ]
  },
  {
   "cell_type": "code",
   "execution_count": null,
   "id": "f386c6a3",
   "metadata": {},
   "outputs": [],
   "source": [
    "concussion_stats.loc[concussion_stats['player'] == 'Taysom Hill']"
   ]
  },
  {
   "cell_type": "code",
   "execution_count": null,
   "id": "92811a94",
   "metadata": {},
   "outputs": [],
   "source": [
    "concussion_report"
   ]
  },
  {
   "cell_type": "code",
   "execution_count": null,
   "id": "1e50dcb6",
   "metadata": {},
   "outputs": [],
   "source": [
    "for ind,row in concussion_report.iterrows():\n",
    "    if row.Date > pd.to_datetime('2022-9-1', format = '%Y-%m-%d'):\n",
    "        concussion_report.loc[ind, 'season'] = '2022 Season'\n",
    "    elif row.Date > pd.to_datetime('2021-9-1', format = '%Y-%m-%d'):\n",
    "        concussion_report.loc[ind, 'season'] = '2021 Season'\n",
    "    elif row.Date > pd.to_datetime('2020-9-1', format = '%Y-%m-%d'):\n",
    "        concussion_report.loc[ind, 'season'] = '2020 Season'\n",
    "    elif row.Date > pd.to_datetime('2019-9-1', format = '%Y-%m-%d'):\n",
    "        concussion_report.loc[ind, 'season'] = '2019 Season'\n",
    "    elif row.Date >= pd.to_datetime('2018-7-1', format = '%Y-%m-%d'):\n",
    "        concussion_report.loc[ind, 'season'] = '2018 Season'"
   ]
  },
  {
   "cell_type": "code",
   "execution_count": null,
   "id": "c8af0b62",
   "metadata": {},
   "outputs": [],
   "source": [
    "concussion_report"
   ]
  },
  {
   "cell_type": "code",
   "execution_count": null,
   "id": "519475cb",
   "metadata": {},
   "outputs": [],
   "source": [
    "concussion_report.Player.value_counts()"
   ]
  },
  {
   "cell_type": "code",
   "execution_count": null,
   "id": "4457bee1",
   "metadata": {},
   "outputs": [],
   "source": [
    "concussion_report.loc[concussion_report['Player'] == 'Buster Skrine']"
   ]
  },
  {
   "cell_type": "code",
   "execution_count": null,
   "id": "469fd93a",
   "metadata": {},
   "outputs": [],
   "source": [
    "concussion_offense.player.value_counts()"
   ]
  },
  {
   "cell_type": "code",
   "execution_count": null,
   "id": "cb6f1f7c",
   "metadata": {},
   "outputs": [],
   "source": [
    "injury_offense = injury_offense.loc[injury_offense['season'] != '2022 Season']"
   ]
  },
  {
   "cell_type": "code",
   "execution_count": null,
   "id": "459010f4",
   "metadata": {},
   "outputs": [],
   "source": [
    "injury_offense"
   ]
  },
  {
   "cell_type": "code",
   "execution_count": null,
   "id": "3bc5c3c9",
   "metadata": {},
   "outputs": [],
   "source": [
    "offense_season_grouped = offense_season_grouped.loc[offense_season_grouped['season'] != '2022 Season']"
   ]
  },
  {
   "cell_type": "code",
   "execution_count": null,
   "id": "b028abf8",
   "metadata": {},
   "outputs": [],
   "source": [
    "for ind,row in offense_season_grouped.iterrows():\n",
    "    if row.pos == 'HB':\n",
    "        offense_season_grouped['pos'] = offense_season_grouped['pos'].replace('HB', 'RB')\n",
    "    if row.pos == 'WR/R':\n",
    "        offense_season_grouped['pos'] = offense_season_grouped['pos'].replace('WR/R', 'WR')"
   ]
  },
  {
   "cell_type": "code",
   "execution_count": null,
   "id": "05ecff15",
   "metadata": {},
   "outputs": [],
   "source": [
    "offense_season_grouped"
   ]
  },
  {
   "cell_type": "code",
   "execution_count": null,
   "id": "17ff8ad1",
   "metadata": {},
   "outputs": [],
   "source": []
  }
 ],
 "metadata": {
  "kernelspec": {
   "display_name": "Python 3 (ipykernel)",
   "language": "python",
   "name": "python3"
  },
  "language_info": {
   "codemirror_mode": {
    "name": "ipython",
    "version": 3
   },
   "file_extension": ".py",
   "mimetype": "text/x-python",
   "name": "python",
   "nbconvert_exporter": "python",
   "pygments_lexer": "ipython3",
   "version": "3.9.12"
  }
 },
 "nbformat": 4,
 "nbformat_minor": 5
}
