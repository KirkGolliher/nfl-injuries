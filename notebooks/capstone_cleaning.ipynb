{
 "cells": [
  {
   "cell_type": "code",
   "execution_count": null,
   "id": "cad6756a",
   "metadata": {},
   "outputs": [],
   "source": [
    "import pandas as pd\n",
    "import matplotlib.pyplot as plt\n",
    "from datetime import datetime"
   ]
  },
  {
   "cell_type": "markdown",
   "id": "b5e6976f",
   "metadata": {},
   "source": [
    "**Plan of action:**<br>\n",
    "- Figure out which columns are needed in the stats data: pos,player,team,pass_yds,pass_td,pass_int,rec_yds,rec_tds,rush_yds,rush_td,surface,game_date\n",
    "- Create a list of the injured players and make new df to merge that with the stats.\n",
    "- Lump all three seasons to get averages or break it up for each season?\n",
    "- Merge the offense/defense/kicking df's to line up the player's \n",
    "- Make list of injured players in each year (cutoff at end of 2020 season)\n",
    "- From that list, compare the average of all the player's stats to the injured ones.\n",
    "- Maybe only focus on the offense stats?"
   ]
  },
  {
   "cell_type": "markdown",
   "id": "93a3fedb",
   "metadata": {},
   "source": [
    "### Pull in the data (injury reports/player stats)"
   ]
  },
  {
   "cell_type": "code",
   "execution_count": null,
   "id": "a8b87971",
   "metadata": {},
   "outputs": [],
   "source": [
    "acl_report = pd.read_csv('../data/acl_report.csv', header = 1)"
   ]
  },
  {
   "cell_type": "code",
   "execution_count": null,
   "id": "98a7a93c",
   "metadata": {},
   "outputs": [],
   "source": [
    "concussion_report = pd.read_csv('../data/concussion_report.csv', header = 1)"
   ]
  },
  {
   "cell_type": "code",
   "execution_count": null,
   "id": "535a73e5",
   "metadata": {},
   "outputs": [],
   "source": [
    "shoulder_report = pd.read_csv('../data/shoulder_report.csv', header = 1)"
   ]
  },
  {
   "cell_type": "code",
   "execution_count": null,
   "id": "09ec0f6d",
   "metadata": {},
   "outputs": [],
   "source": [
    "ankle_report = pd.read_csv('../data/ankle_report.csv', header = 1)"
   ]
  },
  {
   "cell_type": "code",
   "execution_count": null,
   "id": "559618c1",
   "metadata": {},
   "outputs": [],
   "source": [
    "offense_stats = pd.read_csv('../data/nfl_offense.csv')"
   ]
  },
  {
   "cell_type": "code",
   "execution_count": null,
   "id": "6e820318",
   "metadata": {},
   "outputs": [],
   "source": [
    "defense_stats = pd.read_csv('../data/nfl_defense.csv')"
   ]
  },
  {
   "cell_type": "code",
   "execution_count": null,
   "id": "621a6c40",
   "metadata": {},
   "outputs": [],
   "source": [
    "kicking_stats = pd.read_csv('../data/nfl_kicking.csv')"
   ]
  },
  {
   "cell_type": "markdown",
   "id": "10b3aa9f",
   "metadata": {},
   "source": [
    "### Data Cleaning"
   ]
  },
  {
   "cell_type": "code",
   "execution_count": null,
   "id": "2532c8d6",
   "metadata": {},
   "outputs": [],
   "source": [
    "acl_report = acl_report[['Date', 'Team', 'Relinquished', 'Notes']]\n",
    "concussion_report = concussion_report[['Date', 'Team', 'Relinquished', 'Notes']]\n",
    "shoulder_report = shoulder_report[['Date', 'Team', 'Relinquished', 'Notes']]\n",
    "ankle_report = ankle_report[['Date', 'Team', 'Relinquished', 'Notes']]"
   ]
  },
  {
   "cell_type": "code",
   "execution_count": null,
   "id": "ebe7c223",
   "metadata": {},
   "outputs": [],
   "source": [
    "acl_report = acl_report.rename(columns = {'Relinquished':'Player'})\n",
    "concussion_report = concussion_report.rename(columns = {'Relinquished':'Player'})\n",
    "shoulder_report = shoulder_report.rename(columns = {'Relinquished':'Player'})\n",
    "ankle_report = ankle_report.rename(columns = {'Relinquished':'Player'})"
   ]
  },
  {
   "cell_type": "code",
   "execution_count": null,
   "id": "dcccd408",
   "metadata": {},
   "outputs": [],
   "source": [
    "acl_report['Player'] = acl_report['Player'].str[2:]\n",
    "concussion_report['Player'] = concussion_report['Player'].str[2:]\n",
    "shoulder_report['Player'] = shoulder_report['Player'].str[2:]\n",
    "ankle_report['Player'] = ankle_report['Player'].str[2:]"
   ]
  },
  {
   "cell_type": "code",
   "execution_count": null,
   "id": "06043139",
   "metadata": {},
   "outputs": [],
   "source": [
    "acl_report"
   ]
  },
  {
   "cell_type": "code",
   "execution_count": null,
   "id": "5a23cc93",
   "metadata": {},
   "outputs": [],
   "source": [
    "offense_stats"
   ]
  },
  {
   "cell_type": "code",
   "execution_count": null,
   "id": "fb805bcc",
   "metadata": {},
   "outputs": [],
   "source": [
    "#offense_stats = offense_stats[['player','team','pass_yds','pass_td','pass_int','rec_yds','rec_td','rush_yds','rush_td','Surface','game_date']]"
   ]
  },
  {
   "cell_type": "code",
   "execution_count": null,
   "id": "cb065e7a",
   "metadata": {},
   "outputs": [],
   "source": [
    "offense_stats"
   ]
  },
  {
   "cell_type": "code",
   "execution_count": null,
   "id": "156b6d9e",
   "metadata": {},
   "outputs": [],
   "source": [
    "offense_grouped = offense_stats.groupby(['player','pos'])[['pass_yds','pass_td','pass_int','rec_yds','rec_td','rush_yds','rush_td']].sum()"
   ]
  },
  {
   "cell_type": "code",
   "execution_count": null,
   "id": "49d2e9f0",
   "metadata": {},
   "outputs": [],
   "source": [
    "offense_grouped = offense_grouped.reset_index()"
   ]
  },
  {
   "cell_type": "code",
   "execution_count": null,
   "id": "866238c9",
   "metadata": {},
   "outputs": [],
   "source": [
    "offense_grouped"
   ]
  },
  {
   "cell_type": "code",
   "execution_count": null,
   "id": "1b91d51e",
   "metadata": {},
   "outputs": [],
   "source": [
    "offense_grouped.loc[offense_grouped['pass_yds'] > 3000]['pass_yds'].mean()/48"
   ]
  },
  {
   "cell_type": "code",
   "execution_count": null,
   "id": "39fb6b89",
   "metadata": {},
   "outputs": [],
   "source": [
    "offense_grouped.loc[offense_grouped['rec_yds'] >= 300]['rec_yds'].mean()/3"
   ]
  },
  {
   "cell_type": "code",
   "execution_count": null,
   "id": "9db68119",
   "metadata": {},
   "outputs": [],
   "source": [
    "acl_report.Date.unique()"
   ]
  },
  {
   "cell_type": "code",
   "execution_count": null,
   "id": "845c40c0",
   "metadata": {},
   "outputs": [],
   "source": [
    "acl_report = acl_report[acl_report['Date'] != 'Date']\n",
    "shoulder_report = shoulder_report[shoulder_report['Date'] != 'Date']\n",
    "concussion_report = concussion_report[concussion_report['Date'] != 'Date']\n",
    "ankle_report = ankle_report[ankle_report['Date'] != 'Date']"
   ]
  },
  {
   "cell_type": "code",
   "execution_count": null,
   "id": "5bf4092d",
   "metadata": {},
   "outputs": [],
   "source": [
    "acl_report['Date'] = pd.to_datetime(acl_report['Date'], format = '%Y-%m-%d')\n",
    "shoulder_report['Date'] = pd.to_datetime(shoulder_report['Date'], format = '%Y-%m-%d')\n",
    "concussion_report['Date'] = pd.to_datetime(concussion_report['Date'], format = '%Y-%m-%d')\n",
    "ankle_report['Date'] = pd.to_datetime(ankle_report['Date'], format = '%Y-%m-%d')"
   ]
  },
  {
   "cell_type": "code",
   "execution_count": null,
   "id": "47bda9c4",
   "metadata": {},
   "outputs": [],
   "source": [
    "acl_report"
   ]
  },
  {
   "cell_type": "code",
   "execution_count": null,
   "id": "56baba27",
   "metadata": {},
   "outputs": [],
   "source": [
    "acl_report.Player.value_counts()"
   ]
  },
  {
   "cell_type": "code",
   "execution_count": null,
   "id": "65edaf28",
   "metadata": {},
   "outputs": [],
   "source": [
    "acl_players = acl_report.drop_duplicates(subset = 'Player', keep = 'first')\n",
    "shoulder_players = shoulder_report.drop_duplicates(subset = 'Player', keep = 'first')\n",
    "concussion_players = concussion_report.drop_duplicates(subset = 'Player', keep = 'first')\n",
    "ankle_players = ankle_report.drop_duplicates(subset = 'Player', keep = 'first')"
   ]
  },
  {
   "cell_type": "code",
   "execution_count": null,
   "id": "a6295ca6",
   "metadata": {},
   "outputs": [],
   "source": [
    "acl_offense = pd.merge(acl_players, offense_grouped, how = 'inner', left_on = 'Player', right_on = 'player')\n",
    "shoulder_offense = pd.merge(shoulder_players, offense_grouped, how = 'inner', left_on = 'Player', right_on = 'player')\n",
    "concussion_offense = pd.merge(concussion_players, offense_grouped, how = 'inner', left_on = 'Player', right_on = 'player')\n",
    "ankle_offense = pd.merge(ankle_players, offense_grouped, how = 'inner', left_on = 'Player', right_on = 'player')"
   ]
  },
  {
   "cell_type": "code",
   "execution_count": null,
   "id": "a4692030",
   "metadata": {},
   "outputs": [],
   "source": [
    "acl_offense.sort_values(by = 'pass_yds', ascending = False)"
   ]
  },
  {
   "cell_type": "code",
   "execution_count": null,
   "id": "c57987a3",
   "metadata": {},
   "outputs": [],
   "source": [
    "acl_offense.pos.value_counts()"
   ]
  },
  {
   "cell_type": "code",
   "execution_count": null,
   "id": "621abc80",
   "metadata": {},
   "outputs": [],
   "source": [
    "shoulder_offense.pos.value_counts()"
   ]
  },
  {
   "cell_type": "code",
   "execution_count": null,
   "id": "345f9690",
   "metadata": {},
   "outputs": [],
   "source": [
    "concussion_offense.pos.value_counts()"
   ]
  },
  {
   "cell_type": "code",
   "execution_count": null,
   "id": "774eb768",
   "metadata": {},
   "outputs": [],
   "source": [
    "ankle_offense.pos.value_counts()"
   ]
  },
  {
   "cell_type": "code",
   "execution_count": null,
   "id": "b17f046a",
   "metadata": {},
   "outputs": [],
   "source": [
    "ankle_offense"
   ]
  },
  {
   "cell_type": "code",
   "execution_count": null,
   "id": "e5baf12b",
   "metadata": {},
   "outputs": [],
   "source": []
  }
 ],
 "metadata": {
  "kernelspec": {
   "display_name": "Python 3 (ipykernel)",
   "language": "python",
   "name": "python3"
  },
  "language_info": {
   "codemirror_mode": {
    "name": "ipython",
    "version": 3
   },
   "file_extension": ".py",
   "mimetype": "text/x-python",
   "name": "python",
   "nbconvert_exporter": "python",
   "pygments_lexer": "ipython3",
   "version": "3.9.12"
  }
 },
 "nbformat": 4,
 "nbformat_minor": 5
}
