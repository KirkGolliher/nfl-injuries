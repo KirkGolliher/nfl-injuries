{
 "cells": [
  {
   "cell_type": "code",
   "execution_count": null,
   "id": "8df9d840",
   "metadata": {},
   "outputs": [],
   "source": [
    "import pandas as pd\n",
    "import requests\n",
    "from bs4 import BeautifulSoup as BS"
   ]
  },
  {
   "cell_type": "code",
   "execution_count": null,
   "id": "f8485e95",
   "metadata": {},
   "outputs": [],
   "source": [
    "url = 'https://www.prosportstransactions.com/football/Search/SearchResults.php?Player=acl&Team=&BeginDate=2018-05-01&EndDate=&ILChkBx=yes&InjuriesChkBx=yes&submit=Search'\n",
    "\n",
    "response = requests.get(url)"
   ]
  },
  {
   "cell_type": "code",
   "execution_count": null,
   "id": "b2bf311b",
   "metadata": {},
   "outputs": [],
   "source": [
    "response.status_code"
   ]
  },
  {
   "cell_type": "code",
   "execution_count": null,
   "id": "46571464",
   "metadata": {
    "scrolled": true
   },
   "outputs": [],
   "source": [
    "response.text"
   ]
  },
  {
   "cell_type": "code",
   "execution_count": null,
   "id": "f621d386",
   "metadata": {},
   "outputs": [],
   "source": [
    "soup = BS(response.text)"
   ]
  },
  {
   "cell_type": "code",
   "execution_count": null,
   "id": "6f6d8205",
   "metadata": {},
   "outputs": [],
   "source": [
    "print(soup.prettify())"
   ]
  },
  {
   "cell_type": "code",
   "execution_count": null,
   "id": "439f4591",
   "metadata": {},
   "outputs": [],
   "source": [
    "soup.find('table').text"
   ]
  },
  {
   "cell_type": "code",
   "execution_count": null,
   "id": "8bf9e546",
   "metadata": {},
   "outputs": [],
   "source": [
    "player_soup = soup.findAll('table', attrs = {'class':'datatable center'})"
   ]
  },
  {
   "cell_type": "code",
   "execution_count": null,
   "id": "db601fad",
   "metadata": {},
   "outputs": [],
   "source": [
    "player_soup"
   ]
  },
  {
   "cell_type": "markdown",
   "id": "5a761f49",
   "metadata": {},
   "source": [
    "### Pulling data for the acl reports."
   ]
  },
  {
   "cell_type": "code",
   "execution_count": null,
   "id": "4b067aa2",
   "metadata": {},
   "outputs": [],
   "source": [
    "url = 'https://www.prosportstransactions.com/football/Search/SearchResults.php?Player=acl&Team=&BeginDate=2018-05-01&EndDate=&ILChkBx=yes&InjuriesChkBx=yes&submit=Search&start='\n",
    "dfs = []\n",
    "\n",
    "\n",
    "for page in range(0,201,25):\n",
    "    new_url = url + str(page)\n",
    "    response = requests.get(new_url)\n",
    "    soup = BS(response.text)\n",
    "    \n",
    "    injury = pd.read_html(str(soup.findAll('table', attrs = {'class':'datatable center'})))[0]\n",
    "    dfs.append(injury)\n",
    "    \n",
    "acl_report = pd.concat(dfs)\n",
    "acl_report\n"
   ]
  },
  {
   "cell_type": "markdown",
   "id": "2a05beac",
   "metadata": {},
   "source": [
    "**Pulling data for the concussions reports.**"
   ]
  },
  {
   "cell_type": "code",
   "execution_count": null,
   "id": "29b909bb",
   "metadata": {},
   "outputs": [],
   "source": [
    "url = 'https://www.prosportstransactions.com/football/Search/SearchResults.php?Player=concussion&Team=&BeginDate=2018-05-01&EndDate=&PlayerMovementChkBx=yes&ILChkBx=yes&InjuriesChkBx=yes&submit=Search&start=0'\n",
    "dfs = []\n",
    "\n",
    "\n",
    "for page in range(0,476,25):\n",
    "    new_url = url + str(page)\n",
    "    response = requests.get(new_url)\n",
    "    soup = BS(response.text)\n",
    "    \n",
    "    injury = pd.read_html(str(soup.findAll('table', attrs = {'class':'datatable center'})))[0]\n",
    "    dfs.append(injury)\n",
    "    \n",
    "concussion_report = pd.concat(dfs)\n",
    "concussion_report"
   ]
  },
  {
   "cell_type": "markdown",
   "id": "324a6e20",
   "metadata": {},
   "source": [
    "### Pulling data for the shoulder reports."
   ]
  },
  {
   "cell_type": "code",
   "execution_count": null,
   "id": "6ff506cc",
   "metadata": {},
   "outputs": [],
   "source": [
    "url = 'https://www.prosportstransactions.com/football/Search/SearchResults.php?Player=shoulder&Team=&BeginDate=2018-05-01&EndDate=&PlayerMovementChkBx=yes&ILChkBx=yes&submit=Search&start=0'\n",
    "dfs = []\n",
    "\n",
    "\n",
    "for page in range(0,151,25):\n",
    "    new_url = url + str(page)\n",
    "    response = requests.get(new_url)\n",
    "    soup = BS(response.text)\n",
    "    \n",
    "    injury = pd.read_html(str(soup.findAll('table', attrs = {'class':'datatable center'})))[0]\n",
    "    dfs.append(injury)\n",
    "    \n",
    "shoulder_report = pd.concat(dfs)\n",
    "shoulder_report"
   ]
  },
  {
   "cell_type": "markdown",
   "id": "dba93d96",
   "metadata": {},
   "source": [
    "### Pulling data for the ankle reports."
   ]
  },
  {
   "cell_type": "code",
   "execution_count": null,
   "id": "028da48e",
   "metadata": {},
   "outputs": [],
   "source": [
    "url = 'https://www.prosportstransactions.com/football/Search/SearchResults.php?Player=ankle&Team=&BeginDate=2018-05-01&EndDate=&PlayerMovementChkBx=yes&ILChkBx=yes&submit=Search&start=0'\n",
    "dfs = []\n",
    "\n",
    "\n",
    "for page in range(0,326,25):\n",
    "    new_url = url + str(page)\n",
    "    response = requests.get(new_url)\n",
    "    soup = BS(response.text)\n",
    "    \n",
    "    injury = pd.read_html(str(soup.findAll('table', attrs = {'class':'datatable center'})))[0]\n",
    "    dfs.append(injury)\n",
    "    \n",
    "ankle_report = pd.concat(dfs)\n",
    "ankle_report"
   ]
  },
  {
   "cell_type": "markdown",
   "id": "35efaf19",
   "metadata": {},
   "source": [
    "### Saving the data to a CSV to use in a new notebook."
   ]
  },
  {
   "cell_type": "code",
   "execution_count": null,
   "id": "9923911c",
   "metadata": {},
   "outputs": [],
   "source": [
    "acl_report.to_csv('../data/acl_report.csv')"
   ]
  },
  {
   "cell_type": "code",
   "execution_count": null,
   "id": "1e8378fc",
   "metadata": {},
   "outputs": [],
   "source": [
    "concussion_report.to_csv('../data/concussion_report.csv')"
   ]
  },
  {
   "cell_type": "code",
   "execution_count": null,
   "id": "7695ceba",
   "metadata": {},
   "outputs": [],
   "source": [
    "shoulder_report.to_csv('../data/shoulder_report.csv')"
   ]
  },
  {
   "cell_type": "code",
   "execution_count": null,
   "id": "9eff56c9",
   "metadata": {},
   "outputs": [],
   "source": [
    "ankle_report.to_csv('../data/ankle_report.csv')"
   ]
  },
  {
   "cell_type": "code",
   "execution_count": null,
   "id": "65969513",
   "metadata": {},
   "outputs": [],
   "source": []
  }
 ],
 "metadata": {
  "kernelspec": {
   "display_name": "Python 3 (ipykernel)",
   "language": "python",
   "name": "python3"
  },
  "language_info": {
   "codemirror_mode": {
    "name": "ipython",
    "version": 3
   },
   "file_extension": ".py",
   "mimetype": "text/x-python",
   "name": "python",
   "nbconvert_exporter": "python",
   "pygments_lexer": "ipython3",
   "version": "3.9.12"
  }
 },
 "nbformat": 4,
 "nbformat_minor": 5
}
